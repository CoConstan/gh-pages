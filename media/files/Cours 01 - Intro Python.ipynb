{
 "cells": [
  {
   "cell_type": "markdown",
   "metadata": {
    "vscode": {
     "languageId": "plaintext"
    }
   },
   "source": [
    "# Introduction au bases de python\n",
    "\n",
    "## Sommaire\n",
    "\n",
    "\n"
   ]
  },
  {
   "cell_type": "markdown",
   "metadata": {},
   "source": [
    "<ul>\n",
    "    <li>\n",
    "        <a href=\"#introduction\">Introduction</a>\n",
    "    </li>\n",
    "    <li>\n",
    "        <a href=\"#base\">Les bases de python</a>\n",
    "        <ul>\n",
    "            <li><a href=\"#affectation\"> Affectation</a></li>\n",
    "            <li><a href=\"#operateur\"> Operateur</a></li>\n",
    "            <li><a href=\"#test\"> Test</a></li>\n",
    "            <li><a href=\"#boucle\"> Boucle</a></li>\n",
    "            <li><a href=\"#types\"> Principaux types</a></li>\n",
    "            <li><a href=\"#fonction\"> Fonction </a></li>\n",
    "            <li><a href=\"#modules\"> Importation et modules </a></li>\n",
    "        </ul>\n",
    "    </li>\n",
    "    <li>\n",
    "        <a href=\"#numpy\">Numpy</a>\n",
    "        <ul>\n",
    "            <li><a href=\"\"> </a></li>\n",
    "            <li><a href=\"\"> </a></li>\n",
    "        </ul>\n",
    "    </li>\n",
    "    <li>\n",
    "        <a href=\"#matplolib\"> Matplotlib</a>\n",
    "        <ul>\n",
    "            <li><a href=\"\"> </a></li>\n",
    "            <li><a href=\"\"> </a></li>\n",
    "        </ul>\n",
    "    </li>\n",
    "</ul>\n",
    "\n"
   ]
  },
  {
   "cell_type": "markdown",
   "metadata": {},
   "source": [
    "## <h2 id=\"introduction\">Introduction</h2>"
   ]
  },
  {
   "cell_type": "markdown",
   "metadata": {},
   "source": [
    "## <h2 id=\"base\">Les bases de python</h2>\n"
   ]
  },
  {
   "cell_type": "markdown",
   "metadata": {},
   "source": [
    "###\n",
    "<h3 id=\"affectation\"> Affectation et affichage</h3>"
   ]
  },
  {
   "cell_type": "code",
   "execution_count": 2,
   "metadata": {},
   "outputs": [
    {
     "name": "stdout",
     "output_type": "stream",
     "text": [
      "5\n"
     ]
    }
   ],
   "source": [
    "x = 5\n",
    "print(x)"
   ]
  },
  {
   "cell_type": "markdown",
   "metadata": {},
   "source": [
    "Il n'y a pas besoin de déclarer le type la variable que l'on veux affecter car contrairement au C/C++, python utilise un typage dynamique (i.e. une variable n'a pas de type fixe). Il est donc possible de faire ce genre de choses :"
   ]
  },
  {
   "cell_type": "code",
   "execution_count": null,
   "metadata": {},
   "outputs": [
    {
     "name": "stdout",
     "output_type": "stream",
     "text": [
      "5\n",
      "hello\n"
     ]
    }
   ],
   "source": [
    "x = 5       # x est un entier\n",
    "print(x)\n",
    "x = \"hello\" # Maintenant x est une chaîne de caractères\n",
    "print(x)"
   ]
  },
  {
   "cell_type": "markdown",
   "metadata": {},
   "source": [
    "Plus précisément, les variables python sont des références à des objets en mémoire alors qu'en C/C++, sont une adresse mémoire spécifique. Cela permet notamment à python une gestion automatique de la mémoire grâce à un ramasse-miettes (garbage collector).\n",
    "\n",
    "Comme vous avez pu le deviner pour afficher une variable on utilise la fonction print(). Notez qu'il est aussi possible d'afficher plusieurs variable à la suite comme ceci :"
   ]
  },
  {
   "cell_type": "code",
   "execution_count": 7,
   "metadata": {},
   "outputs": [
    {
     "name": "stdout",
     "output_type": "stream",
     "text": [
      "x est égale a 5\n"
     ]
    }
   ],
   "source": [
    "print(\"x est égale a\", x)"
   ]
  },
  {
   "cell_type": "markdown",
   "metadata": {},
   "source": [
    "###\n",
    "<h3 id=\"operateur\"> Opérateurs</h3>"
   ]
  },
  {
   "cell_type": "markdown",
   "metadata": {},
   "source": [
    "#### Addition, soustraction, multiplication"
   ]
  },
  {
   "cell_type": "code",
   "execution_count": 3,
   "metadata": {},
   "outputs": [
    {
     "name": "stdout",
     "output_type": "stream",
     "text": [
      "Addition : 3\n",
      "Soustraction : -1\n",
      "Multiplication : 2\n"
     ]
    }
   ],
   "source": [
    "a = 1 \n",
    "b = 2\n",
    "\n",
    "print(\"Addition :\", a + b)\n",
    "print(\"Soustraction :\", a - b)\n",
    "print(\"Multiplication :\", a * b) "
   ]
  },
  {
   "cell_type": "markdown",
   "metadata": {},
   "source": [
    "#### Puissance, Division, division entière et Modulo"
   ]
  },
  {
   "cell_type": "code",
   "execution_count": 6,
   "metadata": {},
   "outputs": [
    {
     "name": "stdout",
     "output_type": "stream",
     "text": [
      "Puissance : 1000\n",
      "Division : 3.3333333333333335\n",
      "Division entière : 3\n",
      "Modulo : 1\n"
     ]
    }
   ],
   "source": [
    "a = 10\n",
    "b = 3\n",
    "\n",
    "print(\"Puissance :\", a ** b)\n",
    "print(\"Division :\", a / b)\n",
    "print(\"Division entière :\", a // b)\n",
    "print(\"Modulo :\", a % b)"
   ]
  },
  {
   "cell_type": "markdown",
   "metadata": {},
   "source": [
    "###\n",
    "<h3 id=\"test\"> Test</h3>"
   ]
  },
  {
   "cell_type": "markdown",
   "metadata": {},
   "source": [
    "Un élément important de la syntaxe python est la notion de bloc d'instruction. Ils défini par une indentation obtenue en décalant le début des instructions vers la droite grâce à des espaces en début de ligne (habituellement 4 espaces mais ce n’est pas obligatoire). Toutes les instructions d’un même bloc doivent être indentées exactement au même niveau."
   ]
  },
  {
   "cell_type": "markdown",
   "metadata": {},
   "source": [
    "#### if, elif, else"
   ]
  },
  {
   "cell_type": "code",
   "execution_count": null,
   "metadata": {},
   "outputs": [],
   "source": [
    "#Syntaxe\n",
    "# if condition:\n",
    "#     Instruction"
   ]
  },
  {
   "cell_type": "markdown",
   "metadata": {},
   "source": [
    "Condition est une expréssion Booléenne (i.e. True ou False). L'instruction ne sera executé que si la condition à pour valeur True. Voici la liste des opérateurs de comparaison pouvant être contenue dans une expréssion bolléenne :\n",
    "\n",
    "| Opérateur     | Signification |\n",
    "|---------|----:|\n",
    "| x == y   |  égal |\n",
    "| x != y   |  différent |\n",
    "| x < y    |  plus petit que | \n",
    "| x > y    |  plus grand que | \n",
    "| x <= y    |  plus petit ou égal | \n",
    "| x >= y    |  plus grand ou égal |\n",
    "| A or B | OU | \n",
    "| A et B | ET | \n",
    "| not A | NON |\n",
    "\n"
   ]
  },
  {
   "cell_type": "code",
   "execution_count": null,
   "metadata": {},
   "outputs": [
    {
     "name": "stdout",
     "output_type": "stream",
     "text": [
      "x est positif\n",
      "Ce message s'affiche toujours\n"
     ]
    }
   ],
   "source": [
    "x = 5\n",
    "\n",
    "if x > 0:\n",
    "    print(\"x est positif\")\n",
    "elif x == 0:\n",
    "    print(\"x est nul\")\n",
    "else:\n",
    "    print(\"x est négatif\")\n",
    "\n",
    "print(\"Ce message s'affiche toujours\")"
   ]
  },
  {
   "cell_type": "markdown",
   "metadata": {},
   "source": [
    "###\n",
    "<h3 id=\"boucle\"> Boucles</h3>"
   ]
  },
  {
   "cell_type": "markdown",
   "metadata": {},
   "source": [
    "#### For"
   ]
  },
  {
   "cell_type": "markdown",
   "metadata": {},
   "source": [
    "On utilise la boucle For lorsque l'on sait le nombre d'itération (boucle bornée). En python la syntaxe est la suivante : **for compteur in liste:**."
   ]
  },
  {
   "cell_type": "code",
   "execution_count": 11,
   "metadata": {},
   "outputs": [
    {
     "name": "stdout",
     "output_type": "stream",
     "text": [
      "0\n",
      "1\n",
      "2\n"
     ]
    }
   ],
   "source": [
    "for i in [0, 1, 2]:\n",
    "    print(i)"
   ]
  },
  {
   "cell_type": "code",
   "execution_count": 10,
   "metadata": {},
   "outputs": [
    {
     "name": "stdout",
     "output_type": "stream",
     "text": [
      "0\n",
      "1\n",
      "2\n",
      "3\n",
      "4\n"
     ]
    }
   ],
   "source": [
    "for i in range(5):\n",
    "    print(i)"
   ]
  },
  {
   "cell_type": "code",
   "execution_count": 12,
   "metadata": {},
   "outputs": [
    {
     "name": "stdout",
     "output_type": "stream",
     "text": [
      "2\n",
      "3\n",
      "4\n",
      "5\n",
      "6\n",
      "7\n"
     ]
    }
   ],
   "source": [
    "for i in range(2, 8):\n",
    "    print(i)"
   ]
  },
  {
   "cell_type": "markdown",
   "metadata": {},
   "source": [
    "On peut parcourir tout type de liste :"
   ]
  },
  {
   "cell_type": "code",
   "execution_count": 13,
   "metadata": {},
   "outputs": [
    {
     "name": "stdout",
     "output_type": "stream",
     "text": [
      "a\n",
      "b\n",
      "c\n"
     ]
    }
   ],
   "source": [
    "liste = [\"a\", \"b\", \"c\"]\n",
    "for i in liste:\n",
    "    print(i)"
   ]
  },
  {
   "cell_type": "code",
   "execution_count": 20,
   "metadata": {},
   "outputs": [
    {
     "name": "stdout",
     "output_type": "stream",
     "text": [
      "1\n",
      "a\n",
      "2\n",
      "b\n",
      "3\n",
      "c\n"
     ]
    }
   ],
   "source": [
    "liste = [[1, \"a\"], [2, \"b\"], [3, \"c\"]]\n",
    "for a,b in liste:\n",
    "    print(a)\n",
    "    print(b)\n"
   ]
  },
  {
   "cell_type": "markdown",
   "metadata": {},
   "source": [
    "#### While"
   ]
  },
  {
   "cell_type": "markdown",
   "metadata": {},
   "source": [
    "On utilise la boucle While lorsque l'on ne sait pas le nombre d'itération (boucle non bornée). En python la syntaxe est la suivante : **while condition :**. Le bloc d’instructions indentée sera répété tant que la condition est vraie. Si la condition est fausse au départ, le corps de la boucle n’est jamais exécuté. Si la condition reste toujours vraie, alors le corps de la boucle est répété indéfiniment."
   ]
  },
  {
   "cell_type": "code",
   "execution_count": 21,
   "metadata": {},
   "outputs": [
    {
     "name": "stdout",
     "output_type": "stream",
     "text": [
      "1\n",
      "2\n",
      "3\n",
      "4\n"
     ]
    }
   ],
   "source": [
    "x = 1\n",
    "while x < 5:\n",
    "    print(x)\n",
    "    x = x + 1"
   ]
  },
  {
   "cell_type": "markdown",
   "metadata": {},
   "source": [
    "###\n",
    "<h3 id=\"types\"> Principaux types</h3>"
   ]
  },
  {
   "cell_type": "markdown",
   "metadata": {},
   "source": [
    "Comme dit précédament, Python est un language à typage dynamique. La valeur que l’on affecte possède un type qui dépend de la nature des données (nombre entier, nombre à virgule, chaîne de caractères, etc). Le type du contenu d’une variable peut donc changer si on change sa valeur. Il suffit d'utiliser la fonction **type()** pour connaitre le type d'une variable."
   ]
  },
  {
   "cell_type": "code",
   "execution_count": 24,
   "metadata": {},
   "outputs": [
    {
     "name": "stdout",
     "output_type": "stream",
     "text": [
      "<class 'int'>\n",
      "<class 'float'>\n",
      "<class 'str'>\n"
     ]
    }
   ],
   "source": [
    "a = 1\n",
    "print(type(a))\n",
    "a = 1.0\n",
    "print(type(a))\n",
    "a = \"1\"\n",
    "print(type(a))"
   ]
  },
  {
   "cell_type": "markdown",
   "metadata": {},
   "source": [
    "Le tableau suivant résume les types de bases les plus communs que vous rencontrer en python : \n",
    "\n",
    "| Type de base     | Description |\n",
    "|---------|----:|\n",
    "| int   |  nombre entier |\n",
    "| float   |  nombre réel |\n",
    "| bool    |  boolléen | \n",
    "| str    |  chaîne de caractères | \n",
    "| complex | nombre complexe |"
   ]
  },
  {
   "cell_type": "markdown",
   "metadata": {},
   "source": [
    "A partir des type de base, il est possible de créer de nouveau type appellé **type construit**. Un exemple que l'on à déjà vu est la liste. Il existe de nombreuse méthodes directement implémenter pour les utilisé, vous en trouverez quelque une présenté ci dessous."
   ]
  },
  {
   "cell_type": "code",
   "execution_count": 33,
   "metadata": {},
   "outputs": [
    {
     "name": "stdout",
     "output_type": "stream",
     "text": [
      "<class 'list'>\n",
      "['A', 2, 3.0]\n",
      "['A', 2, 3.0, 'd']\n",
      "A\n",
      "<class 'list'>\n",
      "[['A', 2, 3.0, 'd'], 4, 5.0]\n",
      "[1, 1, 5, 6, 7, 10]\n",
      "2\n",
      "[1, 5, 6, 7, 10]\n"
     ]
    }
   ],
   "source": [
    "liste = [\"A\", 2, 3.0]\n",
    "print(type(liste))\n",
    "print(liste)\n",
    "\n",
    "liste.append(\"d\") # ajoute un élément à la fin de la liste\n",
    "print(liste)\n",
    "\n",
    "print(liste[0]) # affiche le premier élément de la liste /!\\ les indices commencent à 0 comme les tableaux en C\n",
    "\n",
    "liste2 = [liste, 4, 5.0] # il est possible de faire des liste de liste (ou des listes de n'importe quel type d'objet d'ailleurs)\n",
    "print(type(liste2))\n",
    "print(liste2)\n",
    "\n",
    "liste = [1, 7, 10, 6, 5,1]\n",
    "liste.sort() # trie la liste\n",
    "print(liste)\n",
    "\n",
    "print(liste.count(1)) # compte le nombre d'occurence de l'élément 1 dans la liste\n",
    "liste.remove(1) # supprime la première occurence de l'élément 1 dans la liste\n",
    "print(liste)\n",
    "\n"
   ]
  },
  {
   "cell_type": "markdown",
   "metadata": {},
   "source": [
    "Un autre exemple de type construit est le tuple. Il permet la création de collection **ordonnée** d'élément. Contrairement à la liste il n'est pas modifiable."
   ]
  },
  {
   "cell_type": "code",
   "execution_count": null,
   "metadata": {},
   "outputs": [
    {
     "name": "stdout",
     "output_type": "stream",
     "text": [
      "<class 'tuple'>\n",
      "(2, 5, 8)\n",
      "2\n",
      "5\n",
      "8\n"
     ]
    }
   ],
   "source": [
    "tuple = (2, 5, 8)\n",
    "print(type(tuple))\n",
    "print(tuple)\n",
    "\n",
    "a, b, c = tuple\n",
    "print(a)\n",
    "print(b)\n",
    "print(c)"
   ]
  },
  {
   "cell_type": "markdown",
   "metadata": {},
   "source": [
    "Enfin le dernier type construit qu'il vous sera presenter est le dictionnaire. Dans une liste ou un tuple les éléments sont ordonnées, ont peut donc y accéder en utilisant leur positions (indice). Dans un dictionnaire les éléments sont identifié par une clé. Pour les définir on utilise les \"**{}**\" et on précise une paire de clé/valeur de la facon suivante : **clé:valeur**. Cet objet est utilisé pour la construction de l'index des colonnes (variables) du type *DataFrame* de la librairie `pandas`."
   ]
  },
  {
   "cell_type": "code",
   "execution_count": 34,
   "metadata": {},
   "outputs": [
    {
     "data": {
      "text/plain": [
       "31"
      ]
     },
     "execution_count": 34,
     "metadata": {},
     "output_type": "execute_result"
    }
   ],
   "source": [
    "months = {'Jan':31 , 'Fev': 28, 'Mar':31, 'Avr':30, 'Mai':31}\n",
    "months['Jan'] "
   ]
  },
  {
   "cell_type": "code",
   "execution_count": 35,
   "metadata": {},
   "outputs": [
    {
     "data": {
      "text/plain": [
       "dict_keys(['Jan', 'Fev', 'Mar', 'Avr', 'Mai'])"
      ]
     },
     "execution_count": 35,
     "metadata": {},
     "output_type": "execute_result"
    }
   ],
   "source": [
    "months.keys()"
   ]
  },
  {
   "cell_type": "code",
   "execution_count": 36,
   "metadata": {},
   "outputs": [
    {
     "data": {
      "text/plain": [
       "dict_values([31, 28, 31, 30, 31])"
      ]
     },
     "execution_count": 36,
     "metadata": {},
     "output_type": "execute_result"
    }
   ],
   "source": [
    "months.values()"
   ]
  },
  {
   "cell_type": "code",
   "execution_count": 37,
   "metadata": {},
   "outputs": [
    {
     "data": {
      "text/plain": [
       "dict_items([('Jan', 31), ('Fev', 28), ('Mar', 31), ('Avr', 30), ('Mai', 31)])"
      ]
     },
     "execution_count": 37,
     "metadata": {},
     "output_type": "execute_result"
    }
   ],
   "source": [
    "months.items()"
   ]
  },
  {
   "cell_type": "markdown",
   "metadata": {},
   "source": [
    "###\n",
    "<h3 id=\"fonction\"> Fonction</h3>"
   ]
  },
  {
   "cell_type": "markdown",
   "metadata": {},
   "source": [
    "En python on définie les fonctions de la manière suivant:"
   ]
  },
  {
   "cell_type": "code",
   "execution_count": 40,
   "metadata": {},
   "outputs": [],
   "source": [
    "def square(x):\n",
    "    \"\"\"Retourne le carré de x\"\"\"\n",
    "    return x**2"
   ]
  },
  {
   "cell_type": "code",
   "execution_count": 41,
   "metadata": {},
   "outputs": [
    {
     "data": {
      "text/plain": [
       "4"
      ]
     },
     "execution_count": 41,
     "metadata": {},
     "output_type": "execute_result"
    }
   ],
   "source": [
    "square(2)"
   ]
  },
  {
   "cell_type": "code",
   "execution_count": 42,
   "metadata": {},
   "outputs": [
    {
     "name": "stdout",
     "output_type": "stream",
     "text": [
      "Help on function square in module __main__:\n",
      "\n",
      "square(x)\n",
      "    Retourne le carré de x\n",
      "\n"
     ]
    }
   ],
   "source": [
    "help(square)"
   ]
  },
  {
   "cell_type": "code",
   "execution_count": 43,
   "metadata": {},
   "outputs": [
    {
     "data": {
      "text/plain": [
       "'Retourne le carré de x'"
      ]
     },
     "execution_count": 43,
     "metadata": {},
     "output_type": "execute_result"
    }
   ],
   "source": [
    "square.__doc__"
   ]
  },
  {
   "cell_type": "markdown",
   "metadata": {},
   "source": [
    "###\n",
    "<h3 id=\"modules\"> Importation et modules</h3>"
   ]
  },
  {
   "cell_type": "markdown",
   "metadata": {},
   "source": [
    "#### Modules \n",
    "Un module contient plusieurs fonctions et commandes qui sont regroupées dans un fichier d'extension `.py`. Insérer un fichier vide de nom `_init_.py` dans chaque dossier et sous-dossier contenant un module à importer.  Un module est appelé par la commande `import`. Un module est considéré comme un script s'il contient des commandes. Lors de l'import d'un script, les commandes sont exécutées tandis que les fonctions sont seulement chargées.\n",
    "\n",
    "Commencer par définir un module dans un fichier texte contenant les commandes suivantes.\n",
    "\n",
    "``\n",
    "def DitBonjour():\n",
    "    print(\"Bonjour\")\n",
    "def DivBy2(x):\n",
    "    return x/2\n",
    "``\n",
    "\n",
    "Sauver le fichier avec pour nom `testM.py` dans le répertoire courant.\n",
    "\n",
    "Il est possible d'importer toutes les fonctions en une seule commande `import`. "
   ]
  },
  {
   "cell_type": "code",
   "execution_count": null,
   "metadata": {},
   "outputs": [],
   "source": [
    "import testM\n",
    "testM.DitBonjour()"
   ]
  },
  {
   "cell_type": "code",
   "execution_count": null,
   "metadata": {},
   "outputs": [],
   "source": [
    "print(testM.DivBy2(10))"
   ]
  },
  {
   "cell_type": "code",
   "execution_count": null,
   "metadata": {},
   "outputs": [],
   "source": [
    "from testM import DivBy2 # importe seulement la fonction DivBy2\n",
    "print(DivBy2(10))"
   ]
  },
  {
   "cell_type": "code",
   "execution_count": null,
   "metadata": {},
   "outputs": [],
   "source": [
    "from testM import * # importe toutes les fonctions du module testM\n",
    "DitBonjour()"
   ]
  },
  {
   "cell_type": "code",
   "execution_count": null,
   "metadata": {},
   "outputs": [],
   "source": [
    "print(DivBy2(10))"
   ]
  },
  {
   "cell_type": "markdown",
   "metadata": {},
   "source": [
    "Une librairie (*package*) regroupe plusieurs modules dans différents sous-répertoires. Le chargement spécifique d'un des modules se fait en précisant le chemin. \n",
    "`import sound.effects.echo` On les installe à l'aide de la commande `pip install`."
   ]
  },
  {
   "cell_type": "markdown",
   "metadata": {},
   "source": [
    "##\n",
    "<h2 id=\"numpy\">Numpy</h2>"
   ]
  },
  {
   "cell_type": "markdown",
   "metadata": {},
   "source": [
    "NumPy est une bibliothèque Python optimisée pour le calcul numérique. Elle offre :  \n",
    "\n",
    "- **Tableaux multidimensionnels (`ndarray`)** plus performants que les listes Python  \n",
    "- **Fonctions mathématiques optimisées** pour l’algèbre linéaire, les statistiques et les transformations  \n",
    "- **Gestion efficace de grandes quantités de données** grâce à ses opérations vectorisées  \n",
    "- **Interopérabilité** avec d'autres bibliothèques comme SciPy et Pandas.  \n",
    "\n",
    "C’est un outil clé pour la science des données et l’intelligence artificielle. Vous trouverez la doc complète ici : [Documentation Numpy](https://numpy.org/doc/stable/)\n",
    "\n",
    "*Rmq* : Pytorch (l'une des librairies de références pour le deep learning) possèdes une syntaxe quasiment identique à Numpy. Un code numpy est donc très simple à parraleliser car la \"traduction\" entre Numpy et Pytorch est quasiment imédiate.\n",
    "\n",
    "Vous trouverez ci dessous quelques exemple d'utilisation très simple."
   ]
  },
  {
   "cell_type": "markdown",
   "metadata": {},
   "source": [
    "#### Type ndarray"
   ]
  },
  {
   "cell_type": "markdown",
   "metadata": {},
   "source": [
    "C'est de loin la structure de données la plus utilisée pour le calcul scientifique sous Python. Elle décrit des tableaux ou *matrices* multi-indices de dimension $ n = 1, 2, 3, \\ldots , 40$. Tous les éléments sont de **même type** (booléen, entier, réel, complexe). \n",
    "\n",
    "Il est possible de contrôler précisément le type d'un `array`, par exemple pour gagner  de la place en mémoire, en codant les entiers sur 8, 16, 32 ou 64 bits, de même pour les réels (*float*) ou les complexes."
   ]
  },
  {
   "cell_type": "code",
   "execution_count": 45,
   "metadata": {},
   "outputs": [
    {
     "name": "stdout",
     "output_type": "stream",
     "text": [
      "[5 3 7]\n"
     ]
    }
   ],
   "source": [
    "# Importation\n",
    "import numpy as np\n",
    "array = np.array([5,3,7])\n",
    "print(array)"
   ]
  },
  {
   "cell_type": "code",
   "execution_count": 47,
   "metadata": {},
   "outputs": [
    {
     "name": "stdout",
     "output_type": "stream",
     "text": [
      "[[1 2 3]\n",
      " [4 5 6]]\n"
     ]
    }
   ],
   "source": [
    "array_2d = np.array([[1,2,3], [4,5,6]])\n",
    "print(array_2d)"
   ]
  },
  {
   "cell_type": "code",
   "execution_count": null,
   "metadata": {},
   "outputs": [
    {
     "name": "stdout",
     "output_type": "stream",
     "text": [
      "[1 2 3]\n"
     ]
    }
   ],
   "source": [
    "#On peut aussi transformer une liste en array numpy\n",
    "liste = [1,2,3]\n",
    "array = np.array(liste)\n",
    "print(array)"
   ]
  },
  {
   "cell_type": "code",
   "execution_count": 60,
   "metadata": {},
   "outputs": [
    {
     "name": "stdout",
     "output_type": "stream",
     "text": [
      "3\n"
     ]
    }
   ],
   "source": [
    "#On accéder aux éléments d'un array numpy de la même manière qu'une liste\n",
    "print(array_2d[0,2])"
   ]
  },
  {
   "cell_type": "markdown",
   "metadata": {},
   "source": [
    "Voici quelques fonctions pour initialiser des array :"
   ]
  },
  {
   "cell_type": "code",
   "execution_count": 61,
   "metadata": {},
   "outputs": [
    {
     "name": "stdout",
     "output_type": "stream",
     "text": [
      "[0 1 2 3 4]\n",
      "[1. 1. 1.]\n",
      "[[0. 0. 0.]\n",
      " [0. 0. 0.]\n",
      " [0. 0. 0.]]\n",
      "[0.         0.33333333 0.66666667 1.        ]\n"
     ]
    }
   ],
   "source": [
    "a = np.arange(5) # crée un array numpy de 0 à 4\n",
    "print(a)\n",
    "\n",
    "a = np.ones(3) # crée un array numpy de 1 de taille 3\n",
    "print(a)\n",
    "\n",
    "a = np.zeros((3,3)) # crée un array numpy de 0 de taille 3x3\n",
    "print(a)\n",
    "\n",
    "a = np.linspace(0, 1, 4) # crée un array numpy de 0 à 1 avec 4 valeurs equidistantes (equivalant au linspace de matlab)\n",
    "print(a)\n"
   ]
  },
  {
   "cell_type": "code",
   "execution_count": 62,
   "metadata": {},
   "outputs": [
    {
     "name": "stdout",
     "output_type": "stream",
     "text": [
      "[[1 0 0 0]\n",
      " [0 2 0 0]\n",
      " [0 0 4 0]\n",
      " [0 0 0 3]]\n",
      "[1 2 4 3]\n"
     ]
    }
   ],
   "source": [
    "D=np.diag([1,2,4,3])\n",
    "print(D)\n",
    "print(np.diag(D))"
   ]
  },
  {
   "cell_type": "markdown",
   "metadata": {},
   "source": [
    "Il existe aussi le module `numpy.random` qui fournit toute une liste de fonctions pour la génération de matrices aléatoires."
   ]
  },
  {
   "cell_type": "code",
   "execution_count": 63,
   "metadata": {},
   "outputs": [
    {
     "data": {
      "text/plain": [
       "array([[0.43922848, 0.35738384],\n",
       "       [0.91031127, 0.53623751],\n",
       "       [0.45045209, 0.73863265],\n",
       "       [0.24960875, 0.4049982 ]])"
      ]
     },
     "execution_count": 63,
     "metadata": {},
     "output_type": "execute_result"
    }
   ],
   "source": [
    "from numpy import random\n",
    "random.rand(4,2) #tirage uniforme"
   ]
  },
  {
   "cell_type": "code",
   "execution_count": 64,
   "metadata": {},
   "outputs": [
    {
     "data": {
      "text/plain": [
       "array([[ 0.11365267,  0.87159231],\n",
       "       [-1.90709284, -0.00522434],\n",
       "       [-0.90023272,  2.05697911],\n",
       "       [ 0.18185059, -0.68512829]])"
      ]
     },
     "execution_count": 64,
     "metadata": {},
     "output_type": "execute_result"
    }
   ],
   "source": [
    "random.randn(4,2) #tirage gaussien N(0,1)"
   ]
  },
  {
   "cell_type": "markdown",
   "metadata": {},
   "source": [
    "#### Slicing\n",
    "\n",
    "Le slicing en NumPy permet d'extraire des parties d'un tableau (`ndarray`) en utilisant la notation `array[start:stop:step]`. Cela permet notamment de réaliser des coupes 2D (slices) dans une image 3D stocker dans un array. \n",
    "\n",
    "Voici quelques exemples simples :  "
   ]
  },
  {
   "cell_type": "code",
   "execution_count": 66,
   "metadata": {},
   "outputs": [
    {
     "name": "stdout",
     "output_type": "stream",
     "text": [
      "[2 3 4 5]\n",
      "[0 1 2 3 4]\n",
      "[5 6 7 8 9]\n",
      "[0 2 4 6 8]\n",
      "[9 8 7 6 5 4 3 2 1 0]\n",
      "[[2 3]\n",
      " [5 6]]\n",
      "[6 7 8 9]\n"
     ]
    }
   ],
   "source": [
    "# Création d'un tableau NumPy  \n",
    "arr = np.array([0, 1, 2, 3, 4, 5, 6, 7, 8, 9])  \n",
    "\n",
    "# Slicing de base  \n",
    "print(arr[2:6])   # [2 3 4 5]  (de l'index 2 à 5)  \n",
    "print(arr[:5])    # [0 1 2 3 4] (du début à l'index 4)  \n",
    "print(arr[5:])    # [5 6 7 8 9] (de l'index 5 à la fin)  \n",
    "print(arr[::2])   # [0 2 4 6 8] (tous les 2 éléments)  \n",
    "print(arr[::-1])  # [9 8 7 6 5 4 3 2 1 0] (tableau inversé)  \n",
    "\n",
    "# Slicing en 2D  \n",
    "mat = np.array([[1, 2, 3], [4, 5, 6], [7, 8, 9]])  \n",
    "print(mat[:2, 1:])  # [[2 3]  \n",
    "                    #  [5 6]] (extraction d’un sous-tableau)  \n",
    "\n",
    "# Slicing avec un tableau de booléens\n",
    "arr = np.array([0, 1, 2, 3, 4, 5, 6, 7, 8, 9])\n",
    "print(arr[arr > 5])  # [6 7 8 9] (éléments plus grands que 5)\n"
   ]
  },
  {
   "cell_type": "markdown",
   "metadata": {},
   "source": [
    "##\n",
    "<h2 id=\"matplolib\">Matplotlib</h2>"
   ]
  },
  {
   "cell_type": "markdown",
   "metadata": {},
   "source": [
    "Matplotlib est une librairie Python pour la **visualisation de données**. Elle permet de tracer des graphiques **2D et 3D** facilement. Matplotlib est souvent utilisé avec NumPy et Pandas pour l'analyse de données. La [gallerie](http://matplotlib.org/1.3.1/gallery.html) de cette librairie propose tout un ensemble d'exemples de graphiques avec le code Python pour les générer.\n"
   ]
  },
  {
   "cell_type": "code",
   "execution_count": 77,
   "metadata": {},
   "outputs": [
    {
     "data": {
      "image/png": "[encoded data removed]",
      "text/plain": [
       "<Figure size 640x480 with 1 Axes>"
      ]
     },
     "metadata": {},
     "output_type": "display_data"
    }
   ],
   "source": [
    "import matplotlib.pyplot as plt\n",
    "\n",
    "gaussian = lambda x: np.exp(-(0.5-x)**2/1.5) #definition d'une fonction gaussienne\n",
    "x=np.arange(-2,2.5,0.01)\n",
    "y=gaussian(x)\n",
    "\n",
    "plt.plot(x, y, linestyle='-', color='b')\n",
    "plt.xlabel(\"X-axis\")\n",
    "plt.ylabel(\"Y-axis\")\n",
    "plt.title(\"Gaussian function\")\n",
    "plt.show()"
   ]
  },
  {
   "cell_type": "code",
   "execution_count": 71,
   "metadata": {},
   "outputs": [
    {
     "data": {
      "image/png": "[encoded data removed]",
      "text/plain": [
       "<Figure size 640x480 with 1 Axes>"
      ]
     },
     "metadata": {},
     "output_type": "display_data"
    }
   ],
   "source": [
    "v=random.randn(1000)\n",
    "h=plt.hist(v,20) # histogramme à 20 pas\n",
    "plt.show()"
   ]
  },
  {
   "cell_type": "code",
   "execution_count": 72,
   "metadata": {},
   "outputs": [
    {
     "data": {
      "image/png": "[encoded data removed]",
      "text/plain": [
       "<Figure size 640x480 with 1 Axes>"
      ]
     },
     "metadata": {},
     "output_type": "display_data"
    }
   ],
   "source": [
    "A=random.randn(64,64)\n",
    "plt.imshow(A,interpolation=\"nearest\")\n",
    "plt.colorbar\n",
    "plt.show()"
   ]
  }
 ],
 "metadata": {
  "kernelspec": {
   "display_name": ".venv",
   "language": "python",
   "name": "python3"
  },
  "language_info": {
   "codemirror_mode": {
    "name": "ipython",
    "version": 3
   },
   "file_extension": ".py",
   "mimetype": "text/x-python",
   "name": "python",
   "nbconvert_exporter": "python",
   "pygments_lexer": "ipython3",
   "version": "3.12.7"
  }
 },
 "nbformat": 4,
 "nbformat_minor": 2
}
