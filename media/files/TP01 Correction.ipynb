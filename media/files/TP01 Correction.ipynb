{
 "cells": [
  {
   "cell_type": "markdown",
   "metadata": {},
   "source": [
    "<center><img src=\"https://polytech.univ-lyon1.fr/uas/polytech/LOGO/UDL_logo_blanc-01%20(2).png\" alt=\"drawing\" style=\"width:100px;\"/></center>\n",
    "\n",
    "# Introduction à Python pour la Data Science\n",
    "\n",
    "## Exercices de découverte de Python"
   ]
  },
  {
   "cell_type": "markdown",
   "metadata": {},
   "source": [
    "## Exercice 1\n",
    "Soit les listes :"
   ]
  },
  {
   "cell_type": "markdown",
   "metadata": {},
   "source": [
    "- Faire la somme de v1 et v2 et conserver le résultat dans une liste v3. \n",
    "- Réaliser le produit des éléments de v2\n",
    "- Rajouter 4 dans v1 à toutes les valeurs inférieur à 30"
   ]
  },
  {
   "cell_type": "code",
   "execution_count": 16,
   "metadata": {},
   "outputs": [
    {
     "data": {
      "text/plain": [
       "[9, 10, 12, 61]"
      ]
     },
     "execution_count": 16,
     "metadata": {},
     "output_type": "execute_result"
    }
   ],
   "source": [
    "#Solution 1 sans numpy\n",
    "v1 = [3, 2, 7, 55]\n",
    "v2 = [6, 8, 5,  6]\n",
    "\n",
    "v3 = [0] * len(v1)\n",
    "\n",
    "for i in range(0, len(v1)):\n",
    "    v3[i] = v1[i] + v2[i]\n",
    "    \n",
    "v3"
   ]
  },
  {
   "cell_type": "code",
   "execution_count": 20,
   "metadata": {},
   "outputs": [
    {
     "data": {
      "text/plain": [
       "array([ 9, 10, 12, 61])"
      ]
     },
     "execution_count": 20,
     "metadata": {},
     "output_type": "execute_result"
    }
   ],
   "source": [
    "#Solution 2 avec numpy\n",
    "import numpy as np\n",
    "v1 = np.array(v1)\n",
    "v2 = np.array(v2)\n",
    "v3 = v1+v2\n",
    "v3"
   ]
  },
  {
   "cell_type": "code",
   "execution_count": 22,
   "metadata": {},
   "outputs": [
    {
     "data": {
      "text/plain": [
       "1440"
      ]
     },
     "execution_count": 22,
     "metadata": {},
     "output_type": "execute_result"
    }
   ],
   "source": [
    "prod = 1\n",
    "for i in range(0,len(v2)):\n",
    "    prod = prod * v2[i]\n",
    "prod"
   ]
  },
  {
   "cell_type": "code",
   "execution_count": 26,
   "metadata": {},
   "outputs": [
    {
     "data": {
      "text/plain": [
       "array([ 7,  6, 11, 59])"
      ]
     },
     "execution_count": 26,
     "metadata": {},
     "output_type": "execute_result"
    }
   ],
   "source": [
    "v1[v1<30] = v1[v1<30]+4\n",
    "v1"
   ]
  },
  {
   "cell_type": "markdown",
   "metadata": {},
   "source": [
    "## Exercice 2\n",
    "Soit la liste : "
   ]
  },
  {
   "cell_type": "code",
   "execution_count": 29,
   "metadata": {},
   "outputs": [],
   "source": [
    "liste = [17, 38, 10, 25, 72]"
   ]
  },
  {
   "cell_type": "markdown",
   "metadata": {},
   "source": [
    "- trier et afficher la liste \n",
    "- ajouter l’élément 12 à la liste et afficher la liste \n",
    "- renverser et afficher la liste \n",
    "- afficher l’indice de l’élément 17 \n",
    "- enlever l’élément 38 et afficher la liste \n",
    "- afficher la sous-liste du 2eau 3e élément \n",
    "- afficher la sous-liste du début au 2e élément \n",
    "- afficher la sous-liste du 3eélément à la fin de la liste \n",
    "- afficher le dernier élément en utilisant un indiçage négatif."
   ]
  },
  {
   "cell_type": "code",
   "execution_count": 32,
   "metadata": {},
   "outputs": [
    {
     "name": "stdout",
     "output_type": "stream",
     "text": [
      "------------------Liste initiale------------------\n",
      "[17, 38, 10, 25, 72] \n",
      "\n",
      "-----------------------Tri------------------------\n",
      "[10, 17, 25, 38, 72] \n",
      "\n",
      "-----------Ajout d'un element puis tri------------\n",
      "[10, 12, 17, 25, 38, 72] \n",
      "\n",
      "-------------------Retournement-------------------\n",
      "[72, 38, 25, 17, 12, 10] \n",
      "\n",
      "---------------Indice d'un element----------------\n",
      "3 \n",
      "\n",
      "---------------Retrait d'un element---------------\n",
      "[72, 25, 17, 12, 10] \n",
      "\n",
      "---------------------Indicage---------------------\n",
      "liste[1:3]= [25, 17]\n",
      "liste[:2]= [72, 25]\n",
      "liste[2:]= [17, 12, 10]\n",
      "liste[:]= [72, 25, 17, 12, 10]\n",
      "liste[-1]= 10\n"
     ]
    }
   ],
   "source": [
    "liste = [17, 38, 10, 25, 72]\n",
    "print(\"Liste initiale\".center(50,'-'))\n",
    "print(liste,'\\n')\n",
    "\n",
    "print(\"Tri\".center(50,'-'))\n",
    "\n",
    "liste.sort()\n",
    "print(liste,'\\n')\n",
    "\n",
    "print(\"Ajout d'un element puis tri\".center(50,'-'))\n",
    "liste.append(12)\n",
    "liste.sort()\n",
    "print(liste,'\\n')\n",
    "\n",
    "print(\"Retournement\".center(50,'-'))\n",
    "liste.reverse()\n",
    "print(liste,'\\n')\n",
    "\n",
    "print(\"Indice d'un element\".center(50,'-'))\n",
    "print(liste.index(17),'\\n')\n",
    "\n",
    "print(\"Retrait d'un element\".center(50,'-'))\n",
    "liste.remove(38)\n",
    "print(liste,'\\n')\n",
    "\n",
    "print(\"Indicage\".center(50,'-'))\n",
    "print(\"liste[1:3]=\",liste[1:3])\n",
    "print(\"liste[:2]=\",liste[:2])\n",
    "print(\"liste[2:]=\",liste[2:])\n",
    "print(\"liste[:]=\",liste[:])\n",
    "print(\"liste[-1]=\",liste[-1])"
   ]
  },
  {
   "cell_type": "markdown",
   "metadata": {},
   "source": [
    "## Exercice 4\n",
    "\n",
    "Créer un dataframe « Donnees» de 3 colonnes et 6 lignes telles que :\n",
    "- la première colonne contienne la variable taille en cm,\n",
    "- la deuxième colonne contienne la variable poids,\n",
    "- la troisième colonne soit un facteur indiquant le sexe de l'individu."
   ]
  },
  {
   "cell_type": "markdown",
   "metadata": {},
   "source": [
    "- Nommer les colonnes de ce tableau de manière adéquate.\n",
    "- Calculer une variable IMC tel que IMC = poids / taille^2 et l’intégrer dans le dataframe donnees\n",
    "- Quel est l’IMC moyen ?\n",
    "- Combien-y-a-t-il de femme et d’homme ? "
   ]
  },
  {
   "cell_type": "code",
   "execution_count": null,
   "metadata": {},
   "outputs": [
    {
     "name": "stdout",
     "output_type": "stream",
     "text": [
      "-------------------Le dataframe-------------------\n",
      "   taille  poids sexe        IMC\n",
      "0    1.93    100    M  26.846358\n",
      "1    1.67     65    F  23.306680\n",
      "2    1.45     43    M  20.451843\n",
      "3    1.87     80    F  22.877406\n",
      "4    1.98     90    M  22.956841\n",
      "5    1.75     79    F  25.795918 \n",
      "\n",
      "-------------------L'IMC moyen--------------------\n",
      "23.70584109946002 \n",
      "\n",
      "-----------La répartition hommes/femmes-----------\n",
      "sexe\n",
      "F    3\n",
      "M    3\n",
      "Name: taille, dtype: int64\n"
     ]
    }
   ],
   "source": [
    "import pandas as pd\n",
    "\n",
    "Donnees = pd.DataFrame(\n",
    "    {\"taille\": [193,167,145,187,198,175],\n",
    "     \"poids\": [100, 65, 43, 80, 90,79],\n",
    "     \"sexe\": ['M','F','M','F','M','F']})\n",
    "Donnees.taille = Donnees.taille/100\n",
    "Donnees['IMC'] = Donnees.poids/(Donnees.taille*Donnees.taille)\n",
    "print(\"Le dataframe\".center(50,'-'))\n",
    "print(Donnees,'\\n')\n",
    "print(\"L'IMC moyen\".center(50,'-'))\n",
    "print(Donnees.IMC.mean(),'\\n')\n",
    "print(\"La répartition hommes/femmes\".center(50,'-'))\n",
    "print(Donnees.groupby('sexe').count().taille)"
   ]
  },
  {
   "cell_type": "markdown",
   "metadata": {},
   "source": [
    "## Exercice 5\n",
    "Initialisez deux entiers : a = 0 et b = 10.\n",
    "Écrire une boucle affichant et incrémentant la valeur de a tant qu’elle reste inférieure\n",
    "à celle de b.\n",
    "Écrire une autre boucle décrémentant la valeur de b et affichant sa valeur si elle est\n",
    "impaire. Boucler tant que b n’est pas nul."
   ]
  },
  {
   "cell_type": "code",
   "execution_count": 2,
   "metadata": {},
   "outputs": [
    {
     "name": "stdout",
     "output_type": "stream",
     "text": [
      "\n",
      " -----------------Première méthode-----------------\n",
      "0 est inferieur à 10\n",
      "1 est inferieur à 10\n",
      "2 est inferieur à 10\n",
      "3 est inferieur à 10\n",
      "4 est inferieur à 10\n",
      "5 est inferieur à 10\n",
      "6 est inferieur à 10\n",
      "7 est inferieur à 10\n",
      "8 est inferieur à 10\n",
      "9 est inferieur à 10\n",
      "\n",
      " -----------------Deuxième méthode-----------------\n",
      "9 est supérieur à 0\n",
      "7 est supérieur à 0\n",
      "5 est supérieur à 0\n",
      "3 est supérieur à 0\n",
      "1 est supérieur à 0\n",
      "\n",
      " -----------------Troisème méthode-----------------\n",
      "0 est inferieur à 10\n",
      "1\n",
      "9\n",
      "9 est supérieur à 1\n",
      "--\n",
      "1 est inferieur à 9\n",
      "2\n",
      "8\n",
      "2 est inferieur à 8\n",
      "3\n",
      "7\n",
      "7 est supérieur à 3\n",
      "--\n",
      "3 est inferieur à 7\n",
      "4\n",
      "6\n",
      "4 est inferieur à 6\n",
      "5\n",
      "5\n",
      "5 est supérieur à 5\n",
      "--\n"
     ]
    }
   ],
   "source": [
    "print('\\n',\"Première méthode\".center(50,'-'))\n",
    "a,b=0,10\n",
    "while a<b:\n",
    "    print(a ,'est inferieur à',b)\n",
    "    a=a+1\n",
    "    \n",
    "print('\\n',\"Deuxième méthode\".center(50,'-'))\n",
    "a,b=0,10\n",
    "while b: \n",
    "    b=b-1\n",
    "    if b%2!=0:\n",
    "        print(b ,'est supérieur à',a)\n",
    "        \n",
    "print('\\n',\"Troisème méthode\".center(50,'-'))\n",
    "a,b=0,10\n",
    "while a<b:\n",
    "    print(a ,'est inferieur à',b)\n",
    "    a=a+1\n",
    "    b=b-1\n",
    "    print(a)\n",
    "    print(b)\n",
    "    if b%2!=0:\n",
    "        print(b ,'est supérieur à',a)\n",
    "        print('--')"
   ]
  },
  {
   "cell_type": "markdown",
   "metadata": {},
   "source": [
    "## Exercice 6\n",
    "\n",
    "Ecrire une fonction « CalculTarif » qui prend pour argument une valeur d’âge et qui affiche : « demi-‐tarif » si l’âge est inférieur à 12 ans, « tarif sénior » si l’âge est supérieur à 60 ans et « plein tarif » sinon. \n",
    "\n",
    "- Tester votre fonction pour des personnes de 5, 65, 85, 41, 23, 47 ans.\n"
   ]
  },
  {
   "cell_type": "code",
   "execution_count": 7,
   "metadata": {},
   "outputs": [
    {
     "name": "stdout",
     "output_type": "stream",
     "text": [
      "demi-tarif\n"
     ]
    }
   ],
   "source": [
    "def CalculTarif(age):\n",
    "    if age<12:\n",
    "        print(\"demi-tarif\")\n",
    "    elif age>60:\n",
    "        print('tarif sénior')\n",
    "    else:\n",
    "        print('Plein tarif')\n",
    "CalculTarif(5)"
   ]
  },
  {
   "cell_type": "markdown",
   "metadata": {},
   "source": [
    "## Exercice 7\n",
    "\n",
    "Créer une fonction « formule » qui prend en argument une valeur de X et qui donne en sortie la valeur de Y associée.  \n",
    "Calculer la liste « Youtput » des valeurs de Y associées aux valeurs de X = 15, 89, 56, 78, 152, 66, 48, 77, 2, 96."
   ]
  },
  {
   "cell_type": "markdown",
   "metadata": {},
   "source": [
    "PV = nRT avec les unités suivantes (généralement utilisées):\n",
    "- P = pression du gaz en Pa\n",
    "- V = volume en m3\n",
    "- n = quantité de matière en mol\n",
    "- T = température absolue en K (Kelvins)\n",
    "- R = 8.314 SI (si les unités utilisées sont celles ci-dessus)"
   ]
  },
  {
   "cell_type": "code",
   "execution_count": null,
   "metadata": {},
   "outputs": [],
   "source": [
    "def gazparfait(X):\n",
    "    P = 78\n",
    "    T = 293.15 # il fait 20 degrés\n",
    "    R = 8.314\n",
    "    V = np.array(X)\n",
    "    n = (P*V)/(R*T)\n",
    "    return(n)\n",
    "\n",
    "gazparfait([15, 89, 56, 78, 152, 66, 48, 77, 2, 96])"
   ]
  },
  {
   "cell_type": "markdown",
   "metadata": {},
   "source": [
    "## Exercice  8\n",
    "\n",
    "Créer une fonction qui identifie les mots ou phrases palindromiques (mots ou phrases qui se lisent dans les deux sens, par exemple RADAR). \n",
    "\n",
    "Cette fonction prendra comme argument le mot « mot » et retournera les phrases : « mot est un palindrome » si le mot = palindrome et « mot n’est pas un palindrome », sinon. \n",
    "- Appliquer votre fonction sur les mots « radar », « hannah », « sept », « kayak », « la mariée ira mal », « capitaine », « engage le jeu que je le gagne »."
   ]
  },
  {
   "cell_type": "code",
   "execution_count": 6,
   "metadata": {},
   "outputs": [
    {
     "name": "stdout",
     "output_type": "stream",
     "text": [
      "Collecting unidecode\n",
      "  Downloading Unidecode-1.3.4-py3-none-any.whl (235 kB)\n",
      "\u001b[2K     \u001b[90m━━━━━━━━━━━━━━━━━━━━━━━━━━━━━━━━━━━━━━━\u001b[0m \u001b[32m235.9/235.9 KB\u001b[0m \u001b[31m4.6 MB/s\u001b[0m eta \u001b[36m0:00:00\u001b[0m00:01\u001b[0m\n",
      "\u001b[?25hInstalling collected packages: unidecode\n",
      "Successfully installed unidecode-1.3.4\n"
     ]
    }
   ],
   "source": [
    "!pip install unidecode"
   ]
  },
  {
   "cell_type": "code",
   "execution_count": null,
   "metadata": {},
   "outputs": [],
   "source": [
    "import unidecode\n",
    "def palindrome(text):\n",
    "    textinitial = text\n",
    "    text = text.replace(' ', '')\n",
    "    text = text.casefold()\n",
    "    text = unidecode.unidecode(text)\n",
    "    if list(text) == list(reversed(text)):\n",
    "        print(textinitial,'est un palindrome','\\n')\n",
    "    else:\n",
    "        print(textinitial,\"n'est pas un palindrome\",'\\n')\n",
    "\n",
    "palindrome('radar')\n",
    "palindrome('hannah')\n",
    "palindrome('sept')\n",
    "palindrome('kayak')\n",
    "palindrome('la mariée ira mal')\n",
    "palindrome('capitaine')\n",
    "palindrome(\"engage le jeu que je le gagne\")"
   ]
  },
  {
   "cell_type": "markdown",
   "metadata": {},
   "source": [
    "## Exercice 9\n",
    "\n",
    "Écrire une fonction volumeSphere qui calcule le volume d’une sphère de rayon r fourni\n",
    "en argument et qui utilise la fonction cube.\n",
    "- Tester la fonction volumeSphere par un appel dans le programme principal."
   ]
  },
  {
   "cell_type": "code",
   "execution_count": null,
   "metadata": {},
   "outputs": [],
   "source": [
    "from math import pi\n",
    "\n",
    "def volumeSphere(r):\n",
    "    return 4*pi*r**3/3\n",
    "\n",
    "rayon = float(input(\"Rayon:\"))\n",
    "print(\"\\n Volume de la sphere de rayon\" ,rayon,\"est\",volumeSphere(rayon))"
   ]
  },
  {
   "cell_type": "markdown",
   "metadata": {},
   "source": [
    "## Exercice 10\n",
    "Écrire une fonction compterMots ayant un argument (une chaîne de caractères) er qui renvoie un dictionnaire qui contient la fréquence de tous les mots de la chaîne entrée."
   ]
  },
  {
   "cell_type": "code",
   "execution_count": null,
   "metadata": {},
   "outputs": [],
   "source": [
    "def compterMots(texte):\n",
    "    dict={}\n",
    "    listeMots=texte.split()\n",
    "    for mot in listeMots:\n",
    "        if mot in dict:\n",
    "            dict[mot] = dict[mot]+1\n",
    "        else:dict[mot]=1\n",
    "    return dict\n",
    "\n",
    "res=compterMots(\"Je ne suis pas content\")\n",
    "for c in res.keys():\n",
    "    print(c,\"-->\",res[c])    "
   ]
  }
 ],
 "metadata": {
  "kernelspec": {
   "display_name": "Python [conda env:base] *",
   "language": "python",
   "name": "conda-base-py"
  },
  "language_info": {
   "codemirror_mode": {
    "name": "ipython",
    "version": 3
   },
   "file_extension": ".py",
   "mimetype": "text/x-python",
   "name": "python",
   "nbconvert_exporter": "python",
   "pygments_lexer": "ipython3",
   "version": "3.12.7"
  }
 },
 "nbformat": 4,
 "nbformat_minor": 4
}
