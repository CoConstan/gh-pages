{
 "cells": [
  {
   "cell_type": "markdown",
   "id": "b3fc3ec9",
   "metadata": {},
   "source": [
    "<center><img src=\"https://polytech.univ-lyon1.fr/uas/polytech/LOGO/UDL_logo_blanc-01%20(2).png\" alt=\"drawing\" style=\"width:100px;\"/></center>\n",
    "\n",
    "# Introduction à Python pour la Data Science\n",
    "\n",
    "## Unsupervised Learning : Réduction de dimension & clustering"
   ]
  },
  {
   "cell_type": "markdown",
   "id": "0ee48eff",
   "metadata": {},
   "source": [
    "## Introduction\n",
    "\n",
    "### Objectifs\n",
    "L'objectif de se TP est de découvrir deux applications de l'apprentissage non supervisé : la réduction de dimension et le clustering. \n",
    "\n",
    "Un objectif secondaire est l'introduction à la librairie `scikit-learn`. \n",
    "\n",
    "### Fonctions de `scikit-learn`\n",
    "La communauté qui développe cette librairie est très active, elle évolue rapidement. Ne pas hésiter à consulter la [documentation](http://scikit-learn.org/stable/index.html) pour des compléments. Voici une sélection de ses principales fonctionnalités.\n",
    "- Transformations (standardisation, discrétisation binaire, regroupement de modalités, imputations rudimentaires de données manquantes) , \"vectorisation\" de corpus de textes (encodage, catalogue, Tf-idf), images.\n",
    "- Exploration: ACP, classification non supervisée (mélanges gaussiens, propagation d'affinité, ascendante hiérarchique, SOM,...). .\n",
    "- Modélisation et apprentissage.\n",
    "\n",
    "Consultez la [documentation](http://scikit-learn.org/stable/user_guide.html) et ses nombreux [exemples](http://scikit-learn.org/stable/auto_examples/index.html) pour plus de détails sur l'utilisation de `scikit-learn`. "
   ]
  },
  {
   "cell_type": "code",
   "execution_count": null,
   "id": "17900561",
   "metadata": {},
   "outputs": [],
   "source": [
    "#Run this cell if sklearn is not installed\n",
    "%pip install scikit-learn"
   ]
  },
  {
   "cell_type": "markdown",
   "id": "302cc46c",
   "metadata": {},
   "source": [
    "## I. Réduction de dimension\n",
    "### ACP\n",
    "\n",
    "La librairie `scikit-learn` a principalement été conçu pour le traitement du signal. Aussi, de nombreuses options de l'ACP ne sont pas disponibles, notamment les graphiques usuels (biplot, cercle des corrélations...). En revanche des résultats sont liés à la version probabiliste de l'ACP sous hypothèse d'une distribution gaussienne multidimensionnelle des données. \n",
    "\n",
    "**Attention**, l'ACP est centrée mais par réduite. L'option n'est pas prévue et les variables doivent être réduites avant si c'est nécessaire.\n",
    "\n",
    "D'autres versions d'analyse en composantes principales sont proposées dans `Scikit-learn`: *kernel PCA, sparse PCA, ICA*..."
   ]
  },
  {
   "cell_type": "code",
   "execution_count": null,
   "id": "4cf22aaa-2d50-4a9c-bf91-1b3fbf6ed5eb",
   "metadata": {},
   "outputs": [],
   "source": [
    "# Import necessary libraries and function here"
   ]
  },
  {
   "cell_type": "markdown",
   "id": "fce3e509",
   "metadata": {},
   "source": [
    "#### Question 1 : \n",
    "- Importez le dataset wine de sklearn à l'aide la fonction [`load_wine()`](https://scikit-learn.org/stable/modules/generated/sklearn.datasets.load_wine.html)\n",
    "- Faites une [`PCA`](https://scikit-learn.org/stable/modules/generated/sklearn.decomposition.PCA.html) en utilisant 2 composantes (pour l'affichage)\n",
    "- Affichez la projection. "
   ]
  },
  {
   "cell_type": "code",
   "execution_count": null,
   "id": "18a695dd",
   "metadata": {},
   "outputs": [],
   "source": []
  },
  {
   "cell_type": "markdown",
   "id": "9f54a062",
   "metadata": {},
   "source": [
    "#### Question 2:\n",
    "- Même question, mais cette fois utilisez la fonction `sklearn.preprocessing.StandardScaler` avant de faire la PCA pour reduire les données.\n",
    "- Quelles sont les différences ? "
   ]
  },
  {
   "cell_type": "markdown",
   "id": "2733ed1d",
   "metadata": {},
   "source": [
    "#### Question 3:\n",
    "- Faites une PCA en utilisant cette fois 5 composantes.\n",
    "- Tracez la variances expliquez pour chaques composantes."
   ]
  },
  {
   "cell_type": "markdown",
   "id": "2ec88a1d",
   "metadata": {},
   "source": [
    "### t-SNE"
   ]
  },
  {
   "cell_type": "markdown",
   "id": "cb7f6be7",
   "metadata": {},
   "source": [
    "t-SNE est une méthode de réduction de dimensionnalité qui vise à préserver les relations de proximité entre les points de données dans un espace réduit, souvent à 2 ou 3 dimensions. Elle est efficace pour visualiser des données complexes, mais peut être lente et moins précise pour de grands ensembles de données, car elle met l’accent sur les structures locales au détriment des relations globales. Contrairement à la PCA, qui est une méthode linéaire, t-SNE est non linéaire et peut donc capturer des structures beaucoup plus complexes dans les données, comme des courbes ou des clusters non linéaires."
   ]
  },
  {
   "cell_type": "code",
   "execution_count": null,
   "id": "e834fecd",
   "metadata": {},
   "outputs": [],
   "source": [
    "# Import the necessary libraries and function here\n"
   ]
  },
  {
   "cell_type": "markdown",
   "id": "a48bcea6",
   "metadata": {},
   "source": [
    "#### Question 4 : \n",
    "- Toujours sur le même dataset utilisez [TSNE](https://scikit-learn.org/stable/modules/generated/sklearn.manifold.TSNE.html#sklearn.manifold.TSNE) afin de faire la réduction de dimension avec et sans rescaling."
   ]
  },
  {
   "cell_type": "code",
   "execution_count": null,
   "id": "0a50e7d0",
   "metadata": {},
   "outputs": [],
   "source": []
  },
  {
   "cell_type": "markdown",
   "id": "5dd38706",
   "metadata": {},
   "source": [
    "### 2.3 UMAP"
   ]
  },
  {
   "cell_type": "markdown",
   "id": "29cb15e5",
   "metadata": {},
   "source": [
    "UMAP est une autre méthodes de réduction de dimension non-lineaire qui préserve à la fois les structures locales et globales des données. Basée sur la topologie et la géométrie des variétés, elle est particulièrement adaptée aux grands ensembles de données et est souvent préférée à t-SNE pour sa capacité à maintenir la structure globale."
   ]
  },
  {
   "cell_type": "code",
   "execution_count": null,
   "id": "1faa4a84",
   "metadata": {},
   "outputs": [],
   "source": [
    "#Run this this cell the first time to install umap's librarie\n",
    "%pip install umap-learn"
   ]
  },
  {
   "cell_type": "code",
   "execution_count": null,
   "id": "7828d9b3",
   "metadata": {},
   "outputs": [],
   "source": [
    "# Import the necessary libraries and function here\n",
    "import umap.umap_ as umap"
   ]
  },
  {
   "cell_type": "markdown",
   "id": "a395b2bf",
   "metadata": {},
   "source": [
    "#### Question 5 : \n",
    "- Toujours sur le même dataset utilisez UMAP afin de faire la réduction de dimension avec et sans rescaling."
   ]
  },
  {
   "cell_type": "code",
   "execution_count": null,
   "id": "435e4c01",
   "metadata": {},
   "outputs": [],
   "source": []
  },
  {
   "cell_type": "markdown",
   "id": "4bdabf3e",
   "metadata": {},
   "source": [
    "## 3 Clustering\n",
    "Le clustering est une méthode de machine learning *non supervisé* qui consiste à regrouper un ensemble d'objets en sous-ensembles, appelés clusters, de sorte que les objets au sein d’un même cluster soient plus similaires entre eux. La tache supervisé équivalentes est la classification. \n",
    "\n",
    "Dans cette parties, nous allons travailler sur le dataset MNIST (Modified National Institute of Standards and Technology), une référence incontournable en apprentissage automatique. Il se compose de 70 000 images en niveaux de gris représentant des chiffres manuscrits de 0 à 9, dont 60 000 sont utilisées pour l'entraînement et 10 000 pour les tests. Chaque image est de petite taille, 28×28 pixels, ce qui le rend facile à manipuler et rapide à traiter. "
   ]
  },
  {
   "cell_type": "code",
   "execution_count": null,
   "id": "e806a729",
   "metadata": {},
   "outputs": [],
   "source": [
    "#Run this cell to install tensorflow the first time\n",
    "%pip install tensorflow"
   ]
  },
  {
   "cell_type": "code",
   "execution_count": 8,
   "id": "74e2ba91",
   "metadata": {},
   "outputs": [],
   "source": [
    "from tensorflow.keras.datasets import mnist\n",
    "import matplotlib.pyplot as plt"
   ]
  },
  {
   "cell_type": "code",
   "execution_count": 9,
   "id": "051a142f",
   "metadata": {},
   "outputs": [
    {
     "data": {
      "image/png": "[encoded data removed]",
      "text/plain": [
       "<Figure size 1000x600 with 15 Axes>"
      ]
     },
     "metadata": {},
     "output_type": "display_data"
    }
   ],
   "source": [
    "# Load MNIST dataset\n",
    "(train_images, train_labels), _ = mnist.load_data()\n",
    "\n",
    "# Set up the plot grid (3 rows, 5 columns)\n",
    "fig, axes = plt.subplots(3, 5, figsize=(10, 6))\n",
    "\n",
    "# Loop through the first 15 images and labels\n",
    "for i in range(3):\n",
    "    for j in range(5):\n",
    "        ax = axes[i, j]\n",
    "        ax.imshow(train_images[i * 5 + j], cmap='gray')\n",
    "        ax.set_title(f\"Label: {train_labels[i * 5 + j]}\")\n",
    "        ax.axis('off')  # Hide axis\n",
    "\n",
    "plt.tight_layout()\n",
    "plt.show()"
   ]
  },
  {
   "cell_type": "markdown",
   "id": "b266cd97",
   "metadata": {},
   "source": [
    "\n",
    "### k-means"
   ]
  },
  {
   "cell_type": "markdown",
   "id": "4c2b0720",
   "metadata": {},
   "source": [
    "#### Question 6:\n",
    "- Faites une PCA avec deux composantes.\n",
    "- Utilisez l'algorithm [KMeans]https://scikit-learn.org/stable/modules/generated/sklearn.cluster.KMeans.html de sklearn sur les données en dimensions réduites. \n",
    "- Comparez les clusters avec les vrais labels.\n"
   ]
  },
  {
   "cell_type": "code",
   "execution_count": null,
   "id": "0180d08f",
   "metadata": {},
   "outputs": [],
   "source": []
  },
  {
   "cell_type": "markdown",
   "id": "3b889eb4",
   "metadata": {},
   "source": [
    "#### Question 7:\n",
    "- Faites une reduction de dimension en utilisant UMAP.\n",
    "- Utilisez l'algorithm [KMeans]https://scikit-learn.org/stable/modules/generated/sklearn.cluster.KMeans.html de sklearn sur les données en dimensions réduites. \n",
    "- Comparez les clusters avec les vrais labels.\n",
    "- Comparez vos résultats avec la PCA, pourquoi est-ce différent ? "
   ]
  },
  {
   "cell_type": "code",
   "execution_count": null,
   "id": "eae63f6a",
   "metadata": {},
   "outputs": [],
   "source": []
  }
 ],
 "metadata": {
  "kernelspec": {
   "display_name": ".venv",
   "language": "python",
   "name": "python3"
  },
  "language_info": {
   "codemirror_mode": {
    "name": "ipython",
    "version": 3
   },
   "file_extension": ".py",
   "mimetype": "text/x-python",
   "name": "python",
   "nbconvert_exporter": "python",
   "pygments_lexer": "ipython3",
   "version": "3.12.7"
  }
 },
 "nbformat": 4,
 "nbformat_minor": 5
}
